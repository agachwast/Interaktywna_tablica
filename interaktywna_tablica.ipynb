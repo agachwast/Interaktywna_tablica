import pandas as pd
import csv
import numpy as np



with open('generic-food.csv') as csv_file:
    
    #POBRANIE DANYCH
    data = np.genfromtxt(csv_file, delimiter=",", dtype=str, skip_header=1)
    group = data[:,2] 
    
    #PRZEFILTROWANIE DANYCH TAK, ŻEBY WYŚWIETLAŁY SIĘ TYLKO TE Z GRUPY 'HERBS AND SPICES'
    mask = group == 'Herbs and Spices' 
    data = data[mask, :]

    
    #SPRAWDZENIE, CZY NIE MA PUSTYCH WARTOŚCI
    name = data[:,0]
    sc_name = data[:,1]
    subgroup = data[:, 3]
    group = data[:,2]
    
   
    empty_name = np.any(name == 'NULL')
    empty_sc_name = np.any(sc_name == 'NULL')
    empty_group = np.any(group == 'NULL')
    empty_subgroup = np.any(subgroup == 'NULL')
    
    #print(empty_name)
    #print(empty_sc_name)
    #print(empty_group)
    #print(empty_subgroup)
    
    #ZOSTAWIENIE TYLKO WIERSZY, KTÓRE NIE MAJĄ PUSTYCH KOMÓREK
    data = data[sc_name != 'NULL']
    
    sc_name = data[:,1]
    empty_sc_name = np.any(sc_name == 'NULL')
    #print(empty_sc_name)
    
    headers = ['NAME', 'SCIENTIFIC NAME', 'GROUP', 'SUBGROUP']
    data_with_headers = np.vstack([headers, data])
    
    #print(data_with_headers)
    
df = pd.DataFrame(data, columns = headers) 
df.index = np.arange(1, len(df) + 1)

pd.set_option('display.max_rows', None)


#df = MOŻLIWOŚĆ WYŚWIETLENIA TABELI W PROGRAMIE JUPITER

import pandas as pd
import numpy as np
import tkinter as tk
from tkinter import ttk
from tkinter import messagebox
#from tkinter import *


#FUNKCJA, KTÓRA POZWALA NA USUNIĘCIE ELEMENTÓW WPROWADZONYCH DO TABLICY
def delete_from_table():
    
    global df
    
    #SPRAWDZENIE CZY UŻYTKOWNIK USUWA TEN ELEMENT, KTÓRY ZOSTAŁ WPISANY
    if(len(df) > 106):
    
        df = df.drop(df.index[-1])
    
        tree.delete(tree.get_children()[-1])
     
    #NIE POZWOLENIE USUNIĘCIA DANYCH, KTÓRE ZNAJDOWAŁY SIĘ JUŻ W ORYGINALNEJ TABELI
    else:
        messagebox.showerror("Error", "Cannot delete this data")
        

#FUNKCJA POZWALAJĄCA NA DODANIE ELEMENTÓW DO TABLICY
def add_to_table():
    
    #POBRANIE DANYCH
    name = name_entry.get()
    scientific_name = scientific_name_entry.get()
    group = group_entry.get()
    subgroup = subgroup_entry.get()
    
    #SPRAWDZENIE CZY WSZYSTKIE POLA SĄ WYPEŁNIONE
    if(name and scientific_name and group and subgroup):
   
        new = {'NAME': name, 'SCIENTIFIC NAME': scientific_name, 'GROUP': group, 'SUBGROUP': subgroup}
        global df
    
        df = pd.concat([df, pd.DataFrame([new])], ignore_index=True)
        
        tree.insert("", tk.END, values=(name, scientific_name, group, subgroup), tags = "new")
        
        tree.tag_configure("new", foreground = "blue")
        
        #WYCZYSZCZENIE PÓL TEKSTOWYCH PO WPROWADZENIU DANYCH
        name_entry.delete(0, tk.END)
        scientific_name_entry.delete(0, tk.END)
        group_entry.delete(0, tk.END)
        subgroup_entry.delete(0, tk.END)
            
    else:
        messagebox.showerror("Error","All slots must be filled")
        
#STWORZENIE OKNA
root = tk.Tk()
root.title('Herbs and Spices')


tree = ttk.Treeview(root)

#STWORZENIE SCROLLBARU
my_scrollbar = ttk.Scrollbar(root, orient = tk.VERTICAL, command = tree.yview)
tree.configure(yscrollcommand = my_scrollbar.set)
my_scrollbar.pack(side = tk.RIGHT, fill = tk.Y) 


tree.pack(expand=True, fill=tk.BOTH)

 
#WYPEŁNIENIE TABELI
tree["columns"] = df.columns

for i, col in enumerate(df.columns):
    tree.heading(i, text=col)

for index, row in df.iterrows():
    tree.insert("", tk.END, values=tuple(row))
       
#DODANIE PRZYCISKU, KTÓRY POZWALA NA WPROWADZENIE DANYCH DO TABLICY
add_button = tk.Button(root, text="Add something to the table", command=add_to_table, fg = "blue")
add_button.pack()

#DODANIE PÓL TEKSTOWYCH, GDZIE MOŻNA WPISAĆ DANE
name_label = tk.Label(root, text="Name:")
name_label.pack()
name_entry = tk.Entry(root)
name_entry.pack()

scientific_name_label = tk.Label(root, text="Scientific Name:")
scientific_name_label.pack()
scientific_name_entry = tk.Entry(root)
scientific_name_entry.pack()

group_label = tk.Label(root, text="Group:")
group_label.pack()
group_entry = tk.Entry(root)
group_entry.pack()

subgroup_label = tk.Label(root, text="Subgroup:")
subgroup_label.pack()
subgroup_entry = tk.Entry(root)
subgroup_entry.pack()

#DODANIE PRZYCISKU, KTÓRY USUWA WPISANE PRZEZ UŻYTKOWNIKA DANE DO TABLICY
delete_button = tk.Button(root, text="Delete last row", command=delete_from_table, fg = "red")
delete_button.pack()


root.mainloop()


